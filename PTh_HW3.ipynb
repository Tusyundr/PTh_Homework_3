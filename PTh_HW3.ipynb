{
  "cells": [
    {
      "cell_type": "code",
      "execution_count": 1,
      "metadata": {
        "id": "KWPMB9lOv38a"
      },
      "outputs": [],
      "source": [
        "import pandas as pd\n",
        "from math import factorial as f\n",
        "from math import sqrt"
      ]
    },
    {
      "cell_type": "markdown",
      "metadata": {
        "id": "ru7VbFjOv38i"
      },
      "source": [
        "## Задача 1\n",
        "\n",
        "> Даны значения зарплат из выборки выпускников: 100, 80, 75, 77, 89, 33, 45, 25, 65, 17, 30, 24, 57, 55, 70, 75, 65, 84, 90, 150. Посчитать (желательно без использования статистических методов наподобие std, var, mean)\n",
        ">\n",
        ">- среднее арифметическое,\n",
        ">- среднее квадратичное отклонение,\n",
        ">- смещенную и несмещенную оценки дисперсий для данной выборки."
      ]
    },
    {
      "cell_type": "markdown",
      "metadata": {
        "id": "1z6WMUKcv38n"
      },
      "source": [
        "### 1. Среднее арифметическое\n",
        "\n",
        "$\\overline{X}=\\frac{1}{m}\\sum\\limits_{i=1}^mx_i$"
      ]
    },
    {
      "cell_type": "code",
      "execution_count": 2,
      "metadata": {
        "colab": {
          "base_uri": "https://localhost:8080/"
        },
        "id": "7CYqSJS1v38o",
        "outputId": "62bc0052-f630-403f-a99a-b1100a4ab4b5"
      },
      "outputs": [
        {
          "output_type": "execute_result",
          "data": {
            "text/plain": [
              "65.3"
            ]
          },
          "metadata": {},
          "execution_count": 2
        }
      ],
      "source": [
        "data = pd.Series([100, 80, 75, 77, 89, 33, 45, 25, 65, 17, 30, 24, 57, 55, 70, 75, 65, 84, 90, 150])\n",
        "X = data.sum() / data.count()\n",
        "X"
      ]
    },
    {
      "cell_type": "markdown",
      "metadata": {
        "id": "pTsfoVcHv38q"
      },
      "source": [
        "### 2. Среднее квадратичное отклонение\n",
        "\n",
        "$S=\\sqrt\\frac{\\sum^n_{i=1}(x_i-\\overline{x})^2}{n-1}$"
      ]
    },
    {
      "cell_type": "code",
      "execution_count": 27,
      "metadata": {
        "colab": {
          "base_uri": "https://localhost:8080/"
        },
        "id": "Qy5Q44fIv38r",
        "outputId": "abada009-616a-44ec-b59b-df64ac0c1192"
      },
      "outputs": [
        {
          "output_type": "execute_result",
          "data": {
            "text/plain": [
              "30.8076"
            ]
          },
          "metadata": {},
          "execution_count": 27
        }
      ],
      "source": [
        "S = sqrt(((data - X) ** 2).sum() / data.count() - 1)\n",
        "round(S,4)"
      ]
    },
    {
      "cell_type": "markdown",
      "metadata": {
        "id": "sx9mfdCJv38s"
      },
      "source": [
        "### 3. Смещенная дисперсия\n",
        "\n",
        "$\\sigma^2=\\frac{\\sum^m_{i=1}(x_i-\\overline{x})^2}{m}$"
      ]
    },
    {
      "cell_type": "code",
      "execution_count": 28,
      "metadata": {
        "colab": {
          "base_uri": "https://localhost:8080/"
        },
        "id": "EpVFhBclv38t",
        "outputId": "a140e1b2-f2c2-4abc-a522-8114e295f401"
      },
      "outputs": [
        {
          "output_type": "execute_result",
          "data": {
            "text/plain": [
              "950.11"
            ]
          },
          "metadata": {},
          "execution_count": 28
        }
      ],
      "source": [
        "disp1 = ((data - X) ** 2).sum() / data.count()\n",
        "round(disp1,4)"
      ]
    },
    {
      "cell_type": "markdown",
      "metadata": {
        "id": "H_Rw4wNEv38u"
      },
      "source": [
        "### 4. Несмещенная дисперсия\n",
        "\n",
        "$S^2=\\frac{\\sum^n_{i=1}(x_i-\\overline{x})^2}{n-1}$"
      ]
    },
    {
      "cell_type": "code",
      "execution_count": 29,
      "metadata": {
        "colab": {
          "base_uri": "https://localhost:8080/"
        },
        "id": "3Ly_o5LVv38v",
        "outputId": "3918dcba-d6ff-4f5f-ca44-92ef3a6032a2"
      },
      "outputs": [
        {
          "output_type": "execute_result",
          "data": {
            "text/plain": [
              "1000.1158"
            ]
          },
          "metadata": {},
          "execution_count": 29
        }
      ],
      "source": [
        "disp2 = ((data - X) ** 2).sum() / (data.count() - 1)\n",
        "round(disp2,4)"
      ]
    },
    {
      "cell_type": "markdown",
      "source": [
        "## Задача 2\n",
        "\n",
        "В первом ящике находится 8 мячей, из которых 5 - белые.\n",
        "Во втором ящике - 12 мячей, из которых 5 белых.\n",
        "Из первого ящика вытаскивают случайным образом два мяча, из второго - 4.\n",
        "\n",
        "Какова вероятность того, что 3 мяча белые?"
      ],
      "metadata": {
        "id": "JrzREprTxk2r"
      }
    },
    {
      "cell_type": "markdown",
      "source": [
        "Используем формулу полной вероятности для 3 случаев:\n",
        "1. Из первого ящика мы достаём 2 белых шара и 1 из второго\n",
        "2. Из первого ящика мы достаём 1 белый шар и 2 из второго\n",
        "3. Из первого ящика мы достаём 0 белых шаров и 3 из второго\n",
        "\n",
        "Для 1 случая:\n",
        "\n",
        "$P_1 = \\dfrac{C_5^2}{C_8^2} \\cdot \\dfrac{C_5^1 \\cdot C_7^3}{C_{12}^4} \\approx 0.1263$"
      ],
      "metadata": {
        "id": "bLLGOjrOycDb"
      }
    },
    {
      "cell_type": "code",
      "source": [
        "def c (k,n): # сочетание\n",
        "    return (f(n) // (f(k)*f(n-k)))\n",
        "P1 = (c(2,5)*c(1,5)*c(3,7))/(c(2,8)*c(4,12))\n",
        "round(P1, 4)"
      ],
      "metadata": {
        "colab": {
          "base_uri": "https://localhost:8080/"
        },
        "id": "XhjF5bRqypvP",
        "outputId": "263573e5-7324-4b84-80d0-df80d5dd56d4"
      },
      "execution_count": 10,
      "outputs": [
        {
          "output_type": "execute_result",
          "data": {
            "text/plain": [
              "0.1263"
            ]
          },
          "metadata": {},
          "execution_count": 10
        }
      ]
    },
    {
      "cell_type": "markdown",
      "source": [
        "Для 2 случая:\n",
        "\n",
        "$P_2 = \\dfrac{C_5^1 \\cdot C_3^1}{C_8^2} \\cdot \\dfrac{C_5^2 \\cdot C_7^2}{C_{12}^4} \\approx 0.2273$"
      ],
      "metadata": {
        "id": "CNXWf6f-y_OV"
      }
    },
    {
      "cell_type": "code",
      "source": [
        "P2 = (c(1,5)*c(2,5)*c(2,7)*c(1,3))/(c(2,8)*c(4,12))\n",
        "round(P2, 4)"
      ],
      "metadata": {
        "colab": {
          "base_uri": "https://localhost:8080/"
        },
        "id": "kUBu9r1DzAhm",
        "outputId": "12f4b5a3-e247-42b9-ec7d-298dbac491a3"
      },
      "execution_count": 11,
      "outputs": [
        {
          "output_type": "execute_result",
          "data": {
            "text/plain": [
              "0.2273"
            ]
          },
          "metadata": {},
          "execution_count": 11
        }
      ]
    },
    {
      "cell_type": "markdown",
      "source": [
        "Для 3 случая:\n",
        "\n",
        "$P_3 = \\dfrac{C_3^2}{C_8^2} \\cdot \\dfrac{C_5^3 \\cdot C_7^1}{C_{12}^4} \\approx 0.0152$"
      ],
      "metadata": {
        "id": "z8AqIlEPzH5w"
      }
    },
    {
      "cell_type": "code",
      "source": [
        "P3 = (c(2,3)*c(3,5)*c(1,7))/(c(2,8)*c(4,12))\n",
        "round(P3, 4)"
      ],
      "metadata": {
        "colab": {
          "base_uri": "https://localhost:8080/"
        },
        "id": "yt3ftplbzJDc",
        "outputId": "342b55b5-0baf-45c2-b4bd-53e72597d4a9"
      },
      "execution_count": 12,
      "outputs": [
        {
          "output_type": "execute_result",
          "data": {
            "text/plain": [
              "0.0152"
            ]
          },
          "metadata": {},
          "execution_count": 12
        }
      ]
    },
    {
      "cell_type": "markdown",
      "source": [
        "$P = P_1 + P_2 + P_3 \\approx 0.3687$"
      ],
      "metadata": {
        "id": "D50HyQ7JzPuv"
      }
    },
    {
      "cell_type": "code",
      "source": [
        "P = P1 + P2 + P3\n",
        "round(P, 4)"
      ],
      "metadata": {
        "colab": {
          "base_uri": "https://localhost:8080/"
        },
        "id": "1prJRwJ-zRDu",
        "outputId": "544e25ba-fdeb-4469-d239-524a1a3005a8"
      },
      "execution_count": 13,
      "outputs": [
        {
          "output_type": "execute_result",
          "data": {
            "text/plain": [
              "0.3687"
            ]
          },
          "metadata": {},
          "execution_count": 13
        }
      ]
    },
    {
      "cell_type": "markdown",
      "metadata": {
        "id": "HsUI9Wu1v38z"
      },
      "source": [
        "## Задача 3\n",
        "> На соревновании по биатлону один из трех спортсменов стреляет и попадает в мишень. Вероятность попадания для первого спортсмена равна 0.9, для второго — 0.8, для третьего — 0.6. Найти вероятность того, что выстрел произведен:\n",
        ">- a). первым спортсменом,\n",
        ">- б). вторым спортсменом,\n",
        ">- в). третьим спортсменом.\n",
        "\n",
        "Формула Байенса\n",
        "\n",
        "$P(B_i|A)=\\frac{P(A|B_i)*P(B_i)}{\\sum\\limits_{i=1}^NP(A|B_i)P(B_i)}$\n",
        "\n",
        "A - мишень поражена\n",
        "\n",
        "$P(B_1)=P(B_2)=P(B_3)=\\frac{1}{3}$  \n",
        "$P(A|B_1)=0.9$  \n",
        "$P(A|B_2)=0.8$  \n",
        "$P(A|B_3)=0.6$\n",
        "\n",
        "По формуле полной вероятности\n",
        "\n",
        "$P(A) = P(B_1)P(A|B_1)+P(B_2)P(A|B_2)+P(B_3)P(A|B_3)$\n",
        "\n",
        ""
      ]
    },
    {
      "cell_type": "code",
      "execution_count": 30,
      "metadata": {
        "colab": {
          "base_uri": "https://localhost:8080/"
        },
        "id": "O4vGy-Txv380",
        "outputId": "eda1cf5d-4a04-42fd-ab81-65b766ae7947"
      },
      "outputs": [
        {
          "output_type": "execute_result",
          "data": {
            "text/plain": [
              "0.7667"
            ]
          },
          "metadata": {},
          "execution_count": 30
        }
      ],
      "source": [
        "PA = 1 / 3 * 0.9 + 1 / 3 * 0.8 + 1 / 3 * 0.6\n",
        "round(PA,4)"
      ]
    },
    {
      "cell_type": "markdown",
      "metadata": {
        "id": "f7E1wRB1v381"
      },
      "source": [
        "### a). Выстрел произведен первым спортсменом\n",
        "\n",
        "$P(B_1|A)=\\frac{P(A|B_1)*P(B_1)}{P(A)}$"
      ]
    },
    {
      "cell_type": "code",
      "execution_count": 31,
      "metadata": {
        "colab": {
          "base_uri": "https://localhost:8080/"
        },
        "id": "rhEcs3lHv382",
        "outputId": "5eef460b-7dcc-4a52-c47d-409ced37a459"
      },
      "outputs": [
        {
          "output_type": "execute_result",
          "data": {
            "text/plain": [
              "0.3913"
            ]
          },
          "metadata": {},
          "execution_count": 31
        }
      ],
      "source": [
        "PA1 = 1 / 3 * 0.9 / PA\n",
        "round(PA1,4)"
      ]
    },
    {
      "cell_type": "markdown",
      "metadata": {
        "id": "OGuCEFpRv383"
      },
      "source": [
        "### б). Выстрел произведен вторым спортсменом\n",
        "\n",
        "$P(B_2|A)=\\frac{P(A|B_2)*P(B_2)}{P(A)}$"
      ]
    },
    {
      "cell_type": "code",
      "execution_count": 32,
      "metadata": {
        "colab": {
          "base_uri": "https://localhost:8080/"
        },
        "id": "hZbQmkd1v383",
        "outputId": "975d2950-5560-4960-ceab-8542919cd491"
      },
      "outputs": [
        {
          "output_type": "execute_result",
          "data": {
            "text/plain": [
              "0.3478"
            ]
          },
          "metadata": {},
          "execution_count": 32
        }
      ],
      "source": [
        "PA2 = 1 / 3 * 0.8 / PA\n",
        "round(PA2,4)"
      ]
    },
    {
      "cell_type": "markdown",
      "metadata": {
        "id": "UGNfnNwZv384"
      },
      "source": [
        "### в). Выстрел произведен третьим спортсменом\n",
        "\n",
        "$P(B_2|A)=\\frac{P(A|B_2)*P(B_2)}{P(A)}$"
      ]
    },
    {
      "cell_type": "code",
      "execution_count": 33,
      "metadata": {
        "colab": {
          "base_uri": "https://localhost:8080/"
        },
        "id": "iCPdHSTiv384",
        "outputId": "a1b5041a-e49e-4cde-b03f-6da7b420c398"
      },
      "outputs": [
        {
          "output_type": "execute_result",
          "data": {
            "text/plain": [
              "0.2609"
            ]
          },
          "metadata": {},
          "execution_count": 33
        }
      ],
      "source": [
        "PA3 = 1 / 3 * 0.6 / PA\n",
        "round(PA3,4)"
      ]
    },
    {
      "cell_type": "markdown",
      "metadata": {
        "id": "mrc9j7Ovv385"
      },
      "source": [
        "## Задача 4\n",
        "> В университет на факультеты A и B поступило равное количество студентов, а на факультет C студентов поступило столько же, сколько на A и B вместе. Вероятность того, что студент факультета A сдаст первую сессию, равна 0.8. Для студента факультета B эта вероятность равна 0.7, а для студента факультета C - 0.9. Студент сдал первую сессию. Какова вероятность, что он учится:\n",
        ">- a). на факультете A,\n",
        ">- б). на факультете B,\n",
        ">- в). на факультете C?\n",
        "\n",
        "A - сессия сдана\n",
        "\n",
        "$P(B_1)=P(B_2)=\\frac{1}{4}$  \n",
        "$P(B_3)=\\frac{2}{4}$  \n",
        "$P(A|B_1)=0.6$  \n",
        "$P(A|B_2)=0.7$  \n",
        "$P(A|B_3)=0.9$\n",
        "\n",
        "По формуле полной вероятности\n",
        "\n",
        "$P(A) = P(B_1)P(A|B_1)+P(B_2)P(A|B_2)+P(B_3)P(A|B_3)$"
      ]
    },
    {
      "cell_type": "code",
      "execution_count": 37,
      "metadata": {
        "colab": {
          "base_uri": "https://localhost:8080/"
        },
        "id": "UXQmnHObv385",
        "outputId": "4aea40d3-7809-48f6-e107-ff6ec3b553ba"
      },
      "outputs": [
        {
          "output_type": "execute_result",
          "data": {
            "text/plain": [
              "0.825"
            ]
          },
          "metadata": {},
          "execution_count": 37
        }
      ],
      "source": [
        "PA = 1 / 4 * 0.8 + 1 / 4 * 0.7 + 2 / 4 * 0.9\n",
        "round(PA,4)"
      ]
    },
    {
      "cell_type": "markdown",
      "metadata": {
        "id": "0fCjeRULv386"
      },
      "source": [
        "a). Студент учится на факультете A"
      ]
    },
    {
      "cell_type": "code",
      "execution_count": 36,
      "metadata": {
        "colab": {
          "base_uri": "https://localhost:8080/"
        },
        "id": "RBRuO8bVv387",
        "outputId": "bd525c58-53ec-4a0f-ed13-82118db9165d"
      },
      "outputs": [
        {
          "output_type": "execute_result",
          "data": {
            "text/plain": [
              "0.2609"
            ]
          },
          "metadata": {},
          "execution_count": 36
        }
      ],
      "source": [
        "PA1 = 1 / 4 * 0.8 / PA\n",
        "round(PA1,4)"
      ]
    },
    {
      "cell_type": "markdown",
      "metadata": {
        "id": "Ch_mO0jtv387"
      },
      "source": [
        "б). Студент учится на факультете B"
      ]
    },
    {
      "cell_type": "code",
      "execution_count": 35,
      "metadata": {
        "colab": {
          "base_uri": "https://localhost:8080/"
        },
        "id": "sImB2I6nv387",
        "outputId": "7b7772cc-6db6-4163-ee49-38a77e19084b"
      },
      "outputs": [
        {
          "output_type": "execute_result",
          "data": {
            "text/plain": [
              "0.2283"
            ]
          },
          "metadata": {},
          "execution_count": 35
        }
      ],
      "source": [
        "PA2 = 1 / 4 * 0.7 / PA\n",
        "round(PA2,4)"
      ]
    },
    {
      "cell_type": "markdown",
      "metadata": {
        "id": "znT1-tPDv388"
      },
      "source": [
        "в). Студент учится на факультете C"
      ]
    },
    {
      "cell_type": "code",
      "execution_count": 34,
      "metadata": {
        "colab": {
          "base_uri": "https://localhost:8080/"
        },
        "id": "udwdkj3av388",
        "outputId": "df4d090d-2db9-4ec1-9a02-970677cb4cbe"
      },
      "outputs": [
        {
          "output_type": "execute_result",
          "data": {
            "text/plain": [
              "0.587"
            ]
          },
          "metadata": {},
          "execution_count": 34
        }
      ],
      "source": [
        "PA3 = 2 / 4 * 0.9 / PA\n",
        "round(PA3,4)"
      ]
    },
    {
      "cell_type": "markdown",
      "metadata": {
        "id": "_nE9GUlsv389"
      },
      "source": [
        "## Задача 5\n",
        "> Устройство состоит из трех деталей. Для первой детали вероятность выйти из строя в первый месяц равна 0.1, для второй - 0.2, для третьей - 0.25. Какова вероятность того, что в первый месяц выйдут из строя:\n",
        ">- а). все детали,\n",
        ">- б). только две детали,\n",
        ">- в). хотя бы одна деталь,\n",
        ">- г). от одной до двух деталей?"
      ]
    },
    {
      "cell_type": "markdown",
      "metadata": {
        "id": "lPd1wsebv389"
      },
      "source": [
        "### а). Из строя вышли все детали\n",
        "\n",
        "А - из строя вышли все детали"
      ]
    },
    {
      "cell_type": "code",
      "execution_count": 38,
      "metadata": {
        "colab": {
          "base_uri": "https://localhost:8080/"
        },
        "id": "qVZiMjd2v38-",
        "outputId": "81705162-7948-4bc0-b4c4-473e6eb350ef"
      },
      "outputs": [
        {
          "output_type": "execute_result",
          "data": {
            "text/plain": [
              "0.005"
            ]
          },
          "metadata": {},
          "execution_count": 38
        }
      ],
      "source": [
        "PA = 0.1 * 0.2 * 0.25\n",
        "round(PA,4)"
      ]
    },
    {
      "cell_type": "markdown",
      "metadata": {
        "id": "HEY8-SyIv38-"
      },
      "source": [
        "### б). Из строя вышли только 2 детали\n",
        "\n",
        "B1 - из строя вышли первая и вторая деталь, но не вышла третья\n",
        "\n",
        "B2 - из строя вышла первая и третья деталь, но не вышла вторая\n",
        "\n",
        "B3 - из строя вышла вторая и третья деталь, но не вышла первая\n",
        "\n",
        "В = B1 + B2 + B3 -  из строя вышло только две детали"
      ]
    },
    {
      "cell_type": "code",
      "execution_count": 39,
      "metadata": {
        "colab": {
          "base_uri": "https://localhost:8080/"
        },
        "id": "hbWh-DZfv38_",
        "outputId": "da263090-8ec1-417a-dc63-f0ebc7749261"
      },
      "outputs": [
        {
          "output_type": "execute_result",
          "data": {
            "text/plain": [
              "0.08"
            ]
          },
          "metadata": {},
          "execution_count": 39
        }
      ],
      "source": [
        "PB = 0.1 * 0.2 * 0.75 + 0.1 * 0.8 * 0.25 + 0.9 * 0.2 * 0.25\n",
        "round(PB,4)"
      ]
    },
    {
      "cell_type": "markdown",
      "metadata": {
        "id": "pwSuSTIov38_"
      },
      "source": [
        "### в). Из строя вышла хотя бы одна деталь\n",
        "\n",
        "C - из строя вышла хотя бы одна деталь"
      ]
    },
    {
      "cell_type": "code",
      "execution_count": 40,
      "metadata": {
        "colab": {
          "base_uri": "https://localhost:8080/"
        },
        "id": "sSipbsvRv38_",
        "outputId": "2a4b9e29-a2d0-445b-8128-1779574bdf9e"
      },
      "outputs": [
        {
          "output_type": "execute_result",
          "data": {
            "text/plain": [
              "0.46"
            ]
          },
          "metadata": {},
          "execution_count": 40
        }
      ],
      "source": [
        "PC = 1 - 0.9 * 0.8 * 0.75\n",
        "round(PC,4)"
      ]
    },
    {
      "cell_type": "markdown",
      "metadata": {
        "id": "tO3iuGXJv39A"
      },
      "source": [
        "### г). Из строя вышло от одной до двух деталей\n",
        "\n",
        "D1 - из строя вышла первая деталь\n",
        "\n",
        "D2 - из строя вышла вторая деталь\n",
        "\n",
        "D3 - из строя вышла третья деталь\n",
        "\n",
        "D - из строя вышла одна деталь"
      ]
    },
    {
      "cell_type": "code",
      "execution_count": 41,
      "metadata": {
        "colab": {
          "base_uri": "https://localhost:8080/"
        },
        "id": "Uz1UJhOzv39A",
        "outputId": "db9efe9f-1bc7-4fe9-9168-019cb0f4c6e0"
      },
      "outputs": [
        {
          "output_type": "execute_result",
          "data": {
            "text/plain": [
              "0.08"
            ]
          },
          "metadata": {},
          "execution_count": 41
        }
      ],
      "source": [
        "PD = 0.9 * 0.2 * 0.25 + 0.1 * 0.8 * 0.25 + 0.1 * 0.2 * 0.75\n",
        "round(PD,4)"
      ]
    },
    {
      "cell_type": "markdown",
      "source": [
        "PЕ = PВ + PD - из строя вышло от одной до двух деталей"
      ],
      "metadata": {
        "id": "D4Ef_kq81Cc3"
      }
    },
    {
      "cell_type": "code",
      "execution_count": 42,
      "metadata": {
        "colab": {
          "base_uri": "https://localhost:8080/"
        },
        "id": "0O6YCg2Kv39B",
        "outputId": "2be7147f-2ca4-429a-8cc6-9c2c5f61f03e"
      },
      "outputs": [
        {
          "output_type": "execute_result",
          "data": {
            "text/plain": [
              "0.16"
            ]
          },
          "metadata": {},
          "execution_count": 42
        }
      ],
      "source": [
        "PE = PB + PD\n",
        "round(PE,4)"
      ]
    }
  ],
  "metadata": {
    "kernelspec": {
      "display_name": "Python 3",
      "language": "python",
      "name": "python3"
    },
    "language_info": {
      "codemirror_mode": {
        "name": "ipython",
        "version": 3
      },
      "file_extension": ".py",
      "mimetype": "text/x-python",
      "name": "python",
      "nbconvert_exporter": "python",
      "pygments_lexer": "ipython3",
      "version": "3.11.1"
    },
    "vscode": {
      "interpreter": {
        "hash": "867b719568835d2758971036323f4589e1a00f73e0a167b563d81825d1a5986e"
      }
    },
    "colab": {
      "provenance": []
    }
  },
  "nbformat": 4,
  "nbformat_minor": 0
}